{
 "cells": [
  {
   "cell_type": "markdown",
   "metadata": {},
   "source": [
    "### The Tic Tac Toe Pad and Dictionary"
   ]
  },
  {
   "cell_type": "code",
   "execution_count": 1,
   "metadata": {},
   "outputs": [],
   "source": [
    "# This is the initial Pad\n",
    "defaultPad = [['Lt','t ','Rt'],['L ','m ','R '],['Lb','b ','Rb']]\n",
    "\n",
    "# Tic Tac Toe dictionary, keys are strings, values are matrix indexes (or point coordinates)\n",
    "ticTacDict = {'LT':(0,0), 'T':(0,1), 'RT':(0,2),\\\n",
    "              'L':(1,0), 'M':(1,1), 'R':(1,2),\\\n",
    "              'LB':(2,0), 'B':(2,1), 'RB':(2,2)}"
   ]
  },
  {
   "cell_type": "markdown",
   "metadata": {},
   "source": [
    "###### Printing"
   ]
  },
  {
   "cell_type": "code",
   "execution_count": 2,
   "metadata": {},
   "outputs": [],
   "source": [
    "# pad printing function (uses global variables: defaultPad, cpu and player_choices)\n",
    "def printPad(cpuHistory,playerHistory,pad=defaultPad):\n",
    "    nRows = len(pad)\n",
    "    \n",
    "    # check for the player options\n",
    "    if playerHistory:\n",
    "        for i in range(len(playerHistory)):\n",
    "            pad[playerHistory[i][0]][playerHistory[i][1]] = 'O '\n",
    "            \n",
    "    # check for CPU options\n",
    "    if cpuHistory:\n",
    "        for i in range(len(cpuHistory)):\n",
    "            pad[cpuHistory[i][0]][cpuHistory[i][1]] = 'X '\n",
    "    \n",
    "    # print Pad!\n",
    "    for i in range(3):\n",
    "        print(pad[i])"
   ]
  },
  {
   "cell_type": "markdown",
   "metadata": {},
   "source": [
    "###### Input: who's beginning the game?"
   ]
  },
  {
   "cell_type": "code",
   "execution_count": 3,
   "metadata": {},
   "outputs": [],
   "source": [
    "# Input who's begining the game\n",
    "def input_first_choice():\n",
    "    \n",
    "    firstChoice = input(\"Who will begin the game: Cpu or You? (Type: cpu or me, case not-sensitive) \")\n",
    "\n",
    "    while True:\n",
    "        # check input\n",
    "        if firstChoice.lower().strip(\" \") in ['cpu','me']:\n",
    "            return firstChoice.lower().strip(\" \")\n",
    "        else:\n",
    "            firstChoice = input(\"Please type cpu or me (case not-sensitive)!\")"
   ]
  },
  {
   "cell_type": "markdown",
   "metadata": {},
   "source": [
    "###### Input player"
   ]
  },
  {
   "cell_type": "code",
   "execution_count": 4,
   "metadata": {},
   "outputs": [],
   "source": [
    "# input player function\n",
    "def input_player_choice(cpuHistory,playerHistory,gameDict=ticTacDict):\n",
    "    \n",
    "    print('This is the game now:')\n",
    "    printPad(cpuHistory,playerHistory)\n",
    "    yourChoice = input(\"Choose your mark! (e.g: 'L' stands for 'Left') \")\n",
    "\n",
    "    while True:\n",
    "        # check if input is among dictionary keys\n",
    "        if yourChoice.upper().strip(\" \") in gameDict.keys():\n",
    "            # check if input has already been selected\n",
    "            if gameDict[yourChoice.upper().strip(\" \")] in (playerHistory + cpuHistory):\n",
    "                yourChoice = input(\"Choose another one! It has been already chosen! \")\n",
    "            else:\n",
    "                return gameDict[yourChoice.upper().strip(\" \")]\n",
    "        else:\n",
    "            yourChoice = input(\"Select a proper position! \")"
   ]
  },
  {
   "cell_type": "markdown",
   "metadata": {},
   "source": [
    "###### Cpu: random move!"
   ]
  },
  {
   "cell_type": "code",
   "execution_count": 5,
   "metadata": {},
   "outputs": [],
   "source": [
    "from random import randint\n",
    "\n",
    "# function generating a valid random choice for the cpu move\n",
    "def gen_random_move(cpuHistory,playerHistory):\n",
    "    while True:\n",
    "        pos0 = randint(0,2)\n",
    "        pos1 = randint(0,2)\n",
    "        if len(playerHistory+cpuHistory) == 9:\n",
    "            # break to avoid infinite loop in case I get here\n",
    "            break\n",
    "        elif (pos0,pos1) not in (playerHistory + cpuHistory):\n",
    "            return (pos0,pos1)"
   ]
  },
  {
   "cell_type": "markdown",
   "metadata": {},
   "source": [
    "###### Cpu: predict next move!\n",
    "<img src=\"./images/ticTac.png\" title=\"Determine direction\"/>"
   ]
  },
  {
   "cell_type": "code",
   "execution_count": 6,
   "metadata": {},
   "outputs": [],
   "source": [
    "# function predicting possible player/cpu win !\n",
    "# it returns all the predicted wining pair of tuples (could be further optimized?)\n",
    "def predict_wining(movesHistory):\n",
    "    tuples2win = []\n",
    "    nMoves = len(movesHistory)\n",
    "    for i in range(nMoves):\n",
    "        for j in range(nMoves):\n",
    "            if j > i:\n",
    "                # check horizontal or vertical\n",
    "                if (movesHistory[i][0] == movesHistory[j][0]) | \\\n",
    "                (movesHistory[i][1] == movesHistory[j][1]):\n",
    "                    tuples2win.append((movesHistory[i],movesHistory[j]))\n",
    "                # check one Tic Tac Toe possible diagonal\n",
    "                elif (movesHistory[i][0] == movesHistory[i][1]) & \\\n",
    "                (movesHistory[j][0] == movesHistory[j][1]):\n",
    "                    tuples2win.append((movesHistory[i],movesHistory[j]))\n",
    "                # check the other Tic Tac Toe possible diagonal\n",
    "                elif (sum(movesHistory[i]) == 2) & (sum(movesHistory[j]) == 2):\n",
    "                    tuples2win.append((movesHistory[i],movesHistory[j]))\n",
    "    return tuples2win"
   ]
  },
  {
   "cell_type": "markdown",
   "metadata": {},
   "source": [
    "###### Why is the direction between two points in the Tic Tac Toe Pad?\n",
    "<img src=\"./images/direction.png\" title=\"Determine direction\"/>"
   ]
  },
  {
   "cell_type": "code",
   "execution_count": 7,
   "metadata": {},
   "outputs": [],
   "source": [
    "# determine the direction between two-points in 2D\n",
    "def determine_direction(pt1,pt0):\n",
    "    x1_0 = pt1[0] - pt0[0]\n",
    "    y1_0 = pt1[1] - pt0[1]\n",
    "    segLen = (x1_0**2 + y1_0**2)**0.5\n",
    "    cosTheta = x1_0/segLen\n",
    "    sinTheta = y1_0/segLen\n",
    "    return (cosTheta,sinTheta)"
   ]
  },
  {
   "cell_type": "markdown",
   "metadata": {},
   "source": [
    "###### Which is the point that will cancel next wining move?"
   ]
  },
  {
   "cell_type": "code",
   "execution_count": 8,
   "metadata": {},
   "outputs": [],
   "source": [
    "from numpy import negative\n",
    "\n",
    "# function asigning cpu choice either to cancel player next wining move\n",
    "def getWiningChoice(tuples2win,gameDict=ticTacDict):\n",
    "    (cosTheta,sinTheta) = determine_direction(*tuples2win)\n",
    "    \n",
    "    for aTuple in gameDict.values():\n",
    "        if (aTuple != tuples2win[0]) & (aTuple != tuples2win[1]):\n",
    "            (cosGamma,sinGamma) = determine_direction(tuples2win[1],aTuple)\n",
    "            \n",
    "            if ((cosTheta,sinTheta) == (cosGamma,sinGamma)) | \\\n",
    "            ((cosTheta,sinTheta) == negative((cosGamma,sinGamma))).all():\n",
    "                return aTuple"
   ]
  },
  {
   "cell_type": "markdown",
   "metadata": {},
   "source": [
    "###### Is there a winner?"
   ]
  },
  {
   "cell_type": "code",
   "execution_count": 9,
   "metadata": {},
   "outputs": [],
   "source": [
    "# this is the winner function\n",
    "def determine_winner(movesHistory,gameDict=ticTacDict):\n",
    "    nMoves = len(movesHistory)\n",
    "    if nMoves >= 3:\n",
    "        for i in range(nMoves):\n",
    "            for j in range(nMoves):\n",
    "                if j > i:\n",
    "                    (cosTheta,sinTheta) = determine_direction(movesHistory[j],movesHistory[i])\n",
    "                for k in range(nMoves):\n",
    "                    if (j > i) & (k > j):\n",
    "                        (cosGamma,sinGamma) = determine_direction(movesHistory[k],movesHistory[j])\n",
    "                        if ((cosTheta,sinTheta) == (cosGamma,sinGamma)) | \\\n",
    "                        ((cosTheta,sinTheta) == negative((cosGamma,sinGamma))).all():\n",
    "                            return True\n",
    "    return False"
   ]
  },
  {
   "cell_type": "markdown",
   "metadata": {},
   "source": [
    "###### Initialization of variables for the game!"
   ]
  },
  {
   "cell_type": "code",
   "execution_count": 10,
   "metadata": {},
   "outputs": [
    {
     "name": "stdout",
     "output_type": "stream",
     "text": [
      "Who will begin the game: Cpu or You? (Type: cpu or me, case not-sensitive) me\n"
     ]
    }
   ],
   "source": [
    "# number of marked spaces in the pad\n",
    "markedSpaces = 0\n",
    "\n",
    "# Who will begin?\n",
    "firstChoice = input_first_choice()\n",
    "\n",
    "# Initialize cpu history of choices\n",
    "if firstChoice == 'cpu':\n",
    "    # First cpu choice default --> center of the pad\n",
    "    cpu_choices = [(1,1)]\n",
    "    markedSpaces += 1\n",
    "else:\n",
    "    # Initialize empty\n",
    "    cpu_choices = []\n",
    "\n",
    "# Initialize the player history of choices\n",
    "player_choices = []"
   ]
  },
  {
   "cell_type": "markdown",
   "metadata": {},
   "source": [
    "###### This is the program loop!"
   ]
  },
  {
   "cell_type": "code",
   "execution_count": 11,
   "metadata": {},
   "outputs": [
    {
     "name": "stdout",
     "output_type": "stream",
     "text": [
      "This is the game now:\n",
      "['Lt', 't ', 'Rt']\n",
      "['L ', 'm ', 'R ']\n",
      "['Lb', 'b ', 'Rb']\n",
      "Choose your mark! (e.g: 'L' stands for 'Left') m\n",
      "This is the game now:\n",
      "['Lt', 't ', 'Rt']\n",
      "['L ', 'O ', 'R ']\n",
      "['X ', 'b ', 'Rb']\n",
      "Choose your mark! (e.g: 'L' stands for 'Left') lt\n",
      "This is the game now:\n",
      "['O ', 't ', 'X ']\n",
      "['L ', 'O ', 'R ']\n",
      "['X ', 'b ', 'Rb']\n",
      "Choose your mark! (e.g: 'L' stands for 'Left') l\n",
      "This is the game now:\n",
      "['O ', 'X ', 'X ']\n",
      "['O ', 'O ', 'R ']\n",
      "['X ', 'b ', 'Rb']\n",
      "Choose your mark! (e.g: 'L' stands for 'Left') b\n",
      "This is the game now:\n",
      "['O ', 'X ', 'X ']\n",
      "['O ', 'O ', 'R ']\n",
      "['X ', 'O ', 'X ']\n",
      "Choose your mark! (e.g: 'L' stands for 'Left') r\n"
     ]
    }
   ],
   "source": [
    "# While loop is broken inside\n",
    "while True:\n",
    "    \n",
    "    playerChoice = input_player_choice(cpu_choices,player_choices)\n",
    "    player_choices.append(playerChoice)\n",
    "    markedSpaces += 1\n",
    "    # check player winner to break\n",
    "    playerWins = determine_winner(player_choices)\n",
    "    if playerWins:\n",
    "        break\n",
    "    elif markedSpaces == 9:\n",
    "        # all marked Spaces --> break\n",
    "        break\n",
    "    \n",
    "    # cpu looking for its wining chance\n",
    "    tuples2win = predict_wining(cpu_choices)\n",
    "    if tuples2win:\n",
    "        # pick always the last pair of tuples\n",
    "        cpu_choice = getWiningChoice(tuples2win[-1])\n",
    "    else:\n",
    "        # cpu just does a random move\n",
    "        cpu_choice = gen_random_move(cpu_choices,player_choices)\n",
    "    \n",
    "    if (not cpu_choices) & ((1,1) not in player_choices):\n",
    "        # Cpu first choice always check the center\n",
    "        cpu_choice = (1,1)\n",
    "    elif cpu_choice in player_choices:\n",
    "        # Over-write cpu_choice in case is already chosen by player\n",
    "        cpu_choice = gen_random_move(cpu_choices,player_choices)\n",
    "    \n",
    "    cpu_choices.append(cpu_choice)\n",
    "    markedSpaces += 1\n",
    "    # check cpu winner to break\n",
    "    cpuWins = determine_winner(cpu_choices)\n",
    "    if cpuWins:\n",
    "        break\n",
    "    elif markedSpaces == 9:\n",
    "        # all marked Spaces --> break\n",
    "        break"
   ]
  },
  {
   "cell_type": "markdown",
   "metadata": {},
   "source": [
    "###### Game conclusion!!!"
   ]
  },
  {
   "cell_type": "code",
   "execution_count": 12,
   "metadata": {},
   "outputs": [
    {
     "name": "stdout",
     "output_type": "stream",
     "text": [
      "You are the champion, my friend :)\n",
      "['O ', 'X ', 'X ']\n",
      "['O ', 'O ', 'O ']\n",
      "['X ', 'O ', 'X ']\n"
     ]
    }
   ],
   "source": [
    "if cpuWins:\n",
    "    print(\"You have been beaten :(\")\n",
    "    printPad(cpu_choices,player_choices)\n",
    "elif playerWins:\n",
    "    print(\"You are the champion, my friend :)\")\n",
    "    printPad(cpu_choices,player_choices)\n",
    "else:\n",
    "    print(\"Tic Tac Toe Tied!!! Play again :)\")\n",
    "    printPad(cpu_choices,player_choices)"
   ]
  }
 ],
 "metadata": {
  "kernelspec": {
   "display_name": "Python 3",
   "language": "python",
   "name": "python3"
  },
  "language_info": {
   "codemirror_mode": {
    "name": "ipython",
    "version": 3
   },
   "file_extension": ".py",
   "mimetype": "text/x-python",
   "name": "python",
   "nbconvert_exporter": "python",
   "pygments_lexer": "ipython3",
   "version": "3.7.6"
  }
 },
 "nbformat": 4,
 "nbformat_minor": 4
}
